{
 "cells": [
  {
   "cell_type": "markdown",
   "metadata": {},
   "source": [
    "# Simple Lasso and Ridge Regularization\n",
    "\n",
    "The aim of this exercise is to understand Lasso and Ridge regularization.\n"
   ]
  },
  {
   "cell_type": "code",
   "execution_count": 1,
   "metadata": {},
   "outputs": [],
   "source": [
    "# Import necessary libraries\n",
    "%matplotlib inline\n",
    "import pandas as pd\n",
    "import numpy as np\n",
    "import matplotlib.pyplot as plt\n",
    "from sklearn import preprocessing\n",
    "from sklearn.linear_model import Lasso\n",
    "from sklearn.linear_model import Ridge\n",
    "from sklearn.metrics import mean_squared_error\n",
    "from sklearn.linear_model import LinearRegression\n",
    "from sklearn.model_selection import train_test_split\n",
    "from sklearn.preprocessing import PolynomialFeatures\n"
   ]
  },
  {
   "cell_type": "code",
   "execution_count": 2,
   "metadata": {},
   "outputs": [],
   "source": [
    "# Read the file \"Boston_housing.csv\" as a Pandas dataframe\n",
    "df = pd.read_csv(\"Boston_housing.csv\")"
   ]
  },
  {
   "cell_type": "markdown",
   "metadata": {},
   "source": [
    "Predictors & Response variables\n",
    "Select the following columns as predictors\n",
    "\n",
    "crim\n",
    "indus\n",
    "nox\n",
    "rm\n",
    "age\n",
    "dis\n",
    "rad\n",
    "tax\n",
    "ptratio\n",
    "black\n",
    "lstat\n",
    "Select the 'medv' column as response variable"
   ]
  },
  {
   "cell_type": "code",
   "execution_count": 3,
   "metadata": {},
   "outputs": [],
   "source": [
    "# Select a subdataframe of predictors mentioned above\n",
    "X = df[[\"crim\", \"indus\", \"nox\", \"rm\", \"age\", \"dis\", \"rad\", \"tax\", \"ptratio\", \"black\", \"lstat\"]]\n",
    "\n",
    "# Normalize the values of the dataframe \n",
    "X_norm = preprocessing.normalize(X, axis=0)\n",
    "\n",
    "# Select medv as the response variable\n",
    "y = df['medv']\n",
    "\n",
    "\n",
    "### edTest(test_random) ###\n",
    "# Split the data into train and validation sets with 70% train data and\n",
    "# random_state as 31\n",
    "X_train, X_val, y_train, y_val = train_test_split(X_norm, y, train_size=0.7, random_state=31)\n"
   ]
  },
  {
   "cell_type": "markdown",
   "metadata": {},
   "source": [
    "Multi-linear Regression Analysis"
   ]
  },
  {
   "cell_type": "code",
   "execution_count": 4,
   "metadata": {},
   "outputs": [
    {
     "name": "stdout",
     "output_type": "stream",
     "text": [
      "Multi-linear regression validation MSE is 21.58114612403253\n"
     ]
    }
   ],
   "source": [
    "# Initialize a Linear Regression model\n",
    "lreg = LinearRegression()\n",
    "\n",
    "# Fit the linear model on the train data\n",
    "lreg.fit(X_train, y_train)\n",
    "\n",
    "# Predict on the validation data\n",
    "y_val_pred = lreg.predict(X_val)\n",
    "\n",
    "\n",
    "# Use the mean_squared_error function to compute the validation mse\n",
    "mse = mean_squared_error(y_val,y_val_pred)\n",
    "\n",
    "# Print the MSE value\n",
    "print (\"Multi-linear regression validation MSE is\", mse)\n"
   ]
  },
  {
   "cell_type": "markdown",
   "metadata": {},
   "source": [
    "Obtaining the coefficients of the predictors"
   ]
  },
  {
   "cell_type": "code",
   "execution_count": 5,
   "metadata": {},
   "outputs": [],
   "source": [
    "# Helper code to create a dictionary of the coefficients \n",
    "# along with the predictors as keys\n",
    "lreg_coef = dict(zip(X.columns, np.transpose(lreg.coef_)))\n",
    "\n",
    "# Linear regression coefficients for plotting\n",
    "lreg_x = list(lreg_coef.keys())\n",
    "lreg_y = list(lreg_coef.values())\n"
   ]
  },
  {
   "cell_type": "markdown",
   "metadata": {},
   "source": [
    "Implementing Lasso regularization"
   ]
  },
  {
   "cell_type": "code",
   "execution_count": 6,
   "metadata": {},
   "outputs": [],
   "source": [
    "# Create a Lasso Regression model with alpha as 0.008\n",
    "lasso_reg = Lasso(alpha=0.008)\n",
    "\n",
    "# Fit the model on the train data\n",
    "lasso_reg.fit(X_train, y_train)\n",
    "\n",
    "# Predict on the validation data using the trained model\n",
    "y_val_pred =lasso_reg.predict(X_val)\n"
   ]
  },
  {
   "cell_type": "markdown",
   "metadata": {},
   "source": [
    "Computing the MSE with Lasso regularization"
   ]
  },
  {
   "cell_type": "code",
   "execution_count": 7,
   "metadata": {},
   "outputs": [
    {
     "name": "stdout",
     "output_type": "stream",
     "text": [
      "Lasso validation MSE is 26.059895644427694\n"
     ]
    }
   ],
   "source": [
    "# Calculate the validation MSE\n",
    "mse_lasso = mean_squared_error(y_val,y_val_pred)\n",
    "\n",
    "# Print the validation MSE\n",
    "print (\"Lasso validation MSE is\", mse_lasso)\n",
    "\n",
    "# Hhelper code to make a dictionary of the predictors \n",
    "# along with the coefficients associated with them\n",
    "lasso_coef = dict(zip(X.columns, np.transpose(lasso_reg.coef_))) \n",
    "\n",
    "# Get the Lasso regularisation coefficients for plotting\n",
    "lasso_x = list(lasso_coef.keys())\n",
    "lasso_y = list(lasso_coef.values())\n"
   ]
  },
  {
   "cell_type": "markdown",
   "metadata": {},
   "source": [
    "Implementing Ridge regularization"
   ]
  },
  {
   "cell_type": "code",
   "execution_count": 8,
   "metadata": {},
   "outputs": [],
   "source": [
    "# Create a Ridge Regression model with alpha as 0.008\n",
    "ridgeReg = Ridge(alpha=0.008)\n",
    "\n",
    "# Fit the model on the train data\n",
    "ridgeReg.fit(X_train, y_train)\n",
    "\n",
    "# Predict the trained model on the validation data\n",
    "y_val_pred = ridgeReg.predict(X_val)\n"
   ]
  },
  {
   "cell_type": "markdown",
   "metadata": {},
   "source": [
    "Computing the MSE with Ridge regularization"
   ]
  },
  {
   "cell_type": "code",
   "execution_count": 9,
   "metadata": {},
   "outputs": [
    {
     "name": "stdout",
     "output_type": "stream",
     "text": [
      "Ridge validation MSE is 23.016227017838553\n"
     ]
    }
   ],
   "source": [
    "### edTest(test_mse) ###\n",
    "\n",
    "# Calculate the validation MSE\n",
    "mse_ridge = mean_squared_error(y_val, y_val_pred)\n",
    "\n",
    "# Print he valdiation MSE\n",
    "print (\"Ridge validation MSE is\", mse_ridge)"
   ]
  },
  {
   "cell_type": "markdown",
   "metadata": {},
   "source": [
    "Obtaining the coefficients of the predictors"
   ]
  },
  {
   "cell_type": "code",
   "execution_count": 10,
   "metadata": {},
   "outputs": [],
   "source": [
    "# Helper code to make a dictionary of the predictors \n",
    "# along with the coefficients associated with them \n",
    "ridge_coef = dict(zip(X.columns, np.transpose(ridgeReg.coef_))) \n",
    "\n",
    "# Ridge regularisation coefficients for plotting\n",
    "ridge_x = list(ridge_coef.keys())\n",
    "ridge_y = list(ridge_coef.values())\n"
   ]
  },
  {
   "cell_type": "markdown",
   "metadata": {},
   "source": [
    "Plotting the graph"
   ]
  },
  {
   "cell_type": "code",
   "execution_count": 11,
   "metadata": {},
   "outputs": [
    {
     "data": {
      "image/png": "[encoded data removed]",
      "text/plain": [
       "<Figure size 640x480 with 1 Axes>"
      ]
     },
     "metadata": {},
     "output_type": "display_data"
    }
   ],
   "source": [
    "# Helper code below to visualise your results\n",
    "\n",
    "plt.rcdefaults()\n",
    "\n",
    "plt.barh(lreg_x,lreg_y,1.0, align='edge',color=\"#D3B4B4\", label=\"Linear Regression\")\n",
    "plt.barh(lasso_x,lasso_y,0.75 ,align='edge',color=\"#81BDB2\",label = \"Lasso regularisation\")\n",
    "plt.barh(ridge_x,ridge_y,0.25 ,align='edge',color=\"#7E7EC0\", label=\"Ridge regularisation\")\n",
    "plt.grid(linewidth=0.2)\n",
    "plt.xlabel(\"Coefficient\")\n",
    "plt.ylabel(\"Predictors\")\n",
    "plt.legend(loc='best')\n",
    "plt.show()"
   ]
  },
  {
   "cell_type": "code",
   "execution_count": null,
   "metadata": {},
   "outputs": [],
   "source": []
  }
 ],
 "metadata": {
  "kernelspec": {
   "display_name": "Python 3",
   "language": "python",
   "name": "python3"
  },
  "language_info": {
   "codemirror_mode": {
    "name": "ipython",
    "version": 3
   },
   "file_extension": ".py",
   "mimetype": "text/x-python",
   "name": "python",
   "nbconvert_exporter": "python",
   "pygments_lexer": "ipython3",
   "version": "3.10.8"
  }
 },
 "nbformat": 4,
 "nbformat_minor": 2
}
