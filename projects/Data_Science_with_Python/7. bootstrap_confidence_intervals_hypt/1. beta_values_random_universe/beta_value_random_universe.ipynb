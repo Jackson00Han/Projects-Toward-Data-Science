{
 "cells": [
  {
   "cell_type": "markdown",
   "metadata": {},
   "source": [
    "# Beta Values for Data from Random Universe\n",
    "\n",
    "In this exercise we are interested in fitting a linear regression model to predict units sold (sales) from TV advertising budget (tv). But when fitting a linear regression, slight variations in the training data can affect the coefficients of the model.\n",
    "\n",
    "To make this issue more concrete, you've been provided with a function RandomUniverse(DataFrame) -> DataFrame that takes a dataset as input and returns a new, slightly different dataset from a \"parallel universe.\" \n",
    "\n",
    "We can fit a regression model to this new, \"parallel universe\" data to calculate a \\beta_0 and \\beta_1 coefficient. This process can be repeated many times, first generating the new dataset with RandomUniverse, and then calculating a new \\beta_0 and \\beta_1 from the new dataset. "
   ]
  },
  {
   "cell_type": "code",
   "execution_count": 2,
   "metadata": {},
   "outputs": [],
   "source": [
    "# Import necessary libraries\n",
    "import numpy as np\n",
    "import pandas as pd\n",
    "import matplotlib.pyplot as plt\n",
    "from randomuniverse import RandomUniverse\n",
    "%matplotlib inline\n"
   ]
  },
  {
   "cell_type": "code",
   "execution_count": 3,
   "metadata": {},
   "outputs": [
    {
     "data": {
      "text/html": [
       "<div>\n",
       "<style scoped>\n",
       "    .dataframe tbody tr th:only-of-type {\n",
       "        vertical-align: middle;\n",
       "    }\n",
       "\n",
       "    .dataframe tbody tr th {\n",
       "        vertical-align: top;\n",
       "    }\n",
       "\n",
       "    .dataframe thead th {\n",
       "        text-align: right;\n",
       "    }\n",
       "</style>\n",
       "<table border=\"1\" class=\"dataframe\">\n",
       "  <thead>\n",
       "    <tr style=\"text-align: right;\">\n",
       "      <th></th>\n",
       "      <th>tv</th>\n",
       "      <th>sales</th>\n",
       "    </tr>\n",
       "  </thead>\n",
       "  <tbody>\n",
       "    <tr>\n",
       "      <th>0</th>\n",
       "      <td>230.1</td>\n",
       "      <td>465.26</td>\n",
       "    </tr>\n",
       "    <tr>\n",
       "      <th>1</th>\n",
       "      <td>44.5</td>\n",
       "      <td>218.95</td>\n",
       "    </tr>\n",
       "    <tr>\n",
       "      <th>2</th>\n",
       "      <td>17.2</td>\n",
       "      <td>195.79</td>\n",
       "    </tr>\n",
       "    <tr>\n",
       "      <th>3</th>\n",
       "      <td>151.5</td>\n",
       "      <td>389.47</td>\n",
       "    </tr>\n",
       "    <tr>\n",
       "      <th>4</th>\n",
       "      <td>180.8</td>\n",
       "      <td>271.58</td>\n",
       "    </tr>\n",
       "  </tbody>\n",
       "</table>\n",
       "</div>"
      ],
      "text/plain": [
       "      tv   sales\n",
       "0  230.1  465.26\n",
       "1   44.5  218.95\n",
       "2   17.2  195.79\n",
       "3  151.5  389.47\n",
       "4  180.8  271.58"
      ]
     },
     "execution_count": 3,
     "metadata": {},
     "output_type": "execute_result"
    }
   ],
   "source": [
    "# Read the advertising dataset as a pandas dataframe\n",
    "df = pd.read_csv('Advertising_adj.csv')\n",
    "\n",
    "# Take a quick look at the dataframe\n",
    "df.head()\n"
   ]
  },
  {
   "cell_type": "code",
   "execution_count": 4,
   "metadata": {},
   "outputs": [],
   "source": [
    "# Create two empty lists that will store the beta values\n",
    "beta0_list, beta1_list = [],[]\n",
    "\n",
    "# Choose the number of \"parallel\" Universes to generate \n",
    "# that many new versions of the dataset\n",
    "parallelUniverses = 100\n",
    "\n",
    "# Loop over the maximum number of parallel Universes\n",
    "for i in range(parallelUniverses):\n",
    "\n",
    "    # Call the RandomUniverse helper function with the dataframe\n",
    "    # read from the data file\n",
    "    df_new = RandomUniverse(df)\n",
    "\n",
    "    # Find the mean of the predictor values i.e. tv\n",
    "    xmean = df_new['tv'].mean()\n",
    "\n",
    "    # Find the mean of the response values i.e. sales\n",
    "    ymean = df_new['sales'].mean()\n",
    "\n",
    "    # Compute the analytical values of beta0 and beta1 using the \n",
    "    # equation given in the hints\n",
    "    beta1 = (sum((x_i-xmean)*(y_i-ymean) for x_i, y_i in zip(df_new['tv'], df_new['sales'])))/(sum((x_i-xmean)**2 for x_i in df_new['tv']))\n",
    "    beta0 = ymean - beta1 * xmean\n",
    "\n",
    "    # Append the calculated values of beta1 and beta0 to the appropriate lists\n",
    "    beta0_list.append(beta0)\n",
    "    beta1_list.append(beta1)\n"
   ]
  },
  {
   "cell_type": "code",
   "execution_count": 5,
   "metadata": {},
   "outputs": [],
   "source": [
    "### edTest(test_beta) ###\n",
    "\n",
    "# Compute the mean of the beta values\n",
    "beta0_mean = np.mean(beta0_list)\n",
    "beta1_mean = np.mean(beta1_list)\n"
   ]
  },
  {
   "cell_type": "code",
   "execution_count": 6,
   "metadata": {},
   "outputs": [
    {
     "data": {
      "image/png": "[encoded data removed]",
      "text/plain": [
       "<Figure size 1800x800 with 2 Axes>"
      ]
     },
     "metadata": {},
     "output_type": "display_data"
    }
   ],
   "source": [
    "# Plot histograms of beta_0 and beta_1 using lists created above \n",
    "fig, ax = plt.subplots(1,2, figsize=(18,8))\n",
    "ax[0].hist(beta0_list)\n",
    "ax[1].hist(beta1_list)\n",
    "ax[0].set_xlabel('Beta 0')\n",
    "ax[1].set_xlabel('Beta 1')\n",
    "ax[0].set_ylabel('Frequency');\n"
   ]
  },
  {
   "cell_type": "markdown",
   "metadata": {},
   "source": [
    "⏸ Increase the number of parallelUniverses. Which of the following do you observe?\n",
    "\n",
    "A. The range of the distribution increases.\n",
    "\n",
    "B. The frequency of points decreases.\n",
    "\n",
    "C. The range of the distribution decreases.\n",
    "\n",
    "D. There is no significant change.\n",
    "\n",
    "--D\n"
   ]
  },
  {
   "cell_type": "code",
   "execution_count": null,
   "metadata": {},
   "outputs": [],
   "source": []
  }
 ],
 "metadata": {
  "kernelspec": {
   "display_name": "Python 3",
   "language": "python",
   "name": "python3"
  },
  "language_info": {
   "codemirror_mode": {
    "name": "ipython",
    "version": 3
   },
   "file_extension": ".py",
   "mimetype": "text/x-python",
   "name": "python",
   "nbconvert_exporter": "python",
   "pygments_lexer": "ipython3",
   "version": "3.10.8"
  }
 },
 "nbformat": 4,
 "nbformat_minor": 2
}
