{
    "cells": [
        {
            "cell_type": "markdown",
            "metadata": {},
            "source": [
                "# Evaluating predictions with other metrics\n",
                "\n",
                "The aim of this exercise is to compute metrics other than accuracy to judge the efficacy of our model's predictions. \n",
                "\n",
                "As you will see, the accuracy score for both the kNN and Logistic Regression models are the same and so accuracy is not always the best metric for classification, especially when there is class imbalance."
            ]
        },
        {
            "cell_type": "code",
            "execution_count": 9,
            "metadata": {},
            "outputs": [],
            "source": [
                "# Import necessary libraries\n",
                "\n",
                "# Your code here\n",
                "import pandas as pd \n",
                "import numpy as np \n",
                "import matplotlib.pyplot as plt \n",
                "from sklearn.neighbors import KNeighborsClassifier\n",
                "from sklearn.linear_model import LogisticRegression\n",
                "from sklearn.metrics import accuracy_score, recall_score, precision_score, f1_score, confusion_matrix\n",
                "\n"
            ]
        },
        {
            "cell_type": "code",
            "execution_count": 10,
            "metadata": {},
            "outputs": [
                {
                    "data": {
                        "text/html": [
                            "<div>\n",
                            "<style scoped>\n",
                            "    .dataframe tbody tr th:only-of-type {\n",
                            "        vertical-align: middle;\n",
                            "    }\n",
                            "\n",
                            "    .dataframe tbody tr th {\n",
                            "        vertical-align: top;\n",
                            "    }\n",
                            "\n",
                            "    .dataframe thead th {\n",
                            "        text-align: right;\n",
                            "    }\n",
                            "</style>\n",
                            "<table border=\"1\" class=\"dataframe\">\n",
                            "  <thead>\n",
                            "    <tr style=\"text-align: right;\">\n",
                            "      <th></th>\n",
                            "      <th>age</th>\n",
                            "      <th>sex</th>\n",
                            "      <th>cough</th>\n",
                            "      <th>fever</th>\n",
                            "      <th>chills</th>\n",
                            "      <th>sore_throat</th>\n",
                            "      <th>headache</th>\n",
                            "      <th>fatigue</th>\n",
                            "      <th>Urgency</th>\n",
                            "    </tr>\n",
                            "  </thead>\n",
                            "  <tbody>\n",
                            "    <tr>\n",
                            "      <th>0</th>\n",
                            "      <td>30</td>\n",
                            "      <td>1</td>\n",
                            "      <td>0</td>\n",
                            "      <td>0</td>\n",
                            "      <td>0</td>\n",
                            "      <td>0</td>\n",
                            "      <td>0</td>\n",
                            "      <td>0</td>\n",
                            "      <td>0</td>\n",
                            "    </tr>\n",
                            "    <tr>\n",
                            "      <th>1</th>\n",
                            "      <td>47</td>\n",
                            "      <td>1</td>\n",
                            "      <td>0</td>\n",
                            "      <td>0</td>\n",
                            "      <td>0</td>\n",
                            "      <td>0</td>\n",
                            "      <td>0</td>\n",
                            "      <td>0</td>\n",
                            "      <td>0</td>\n",
                            "    </tr>\n",
                            "    <tr>\n",
                            "      <th>2</th>\n",
                            "      <td>49</td>\n",
                            "      <td>1</td>\n",
                            "      <td>0</td>\n",
                            "      <td>0</td>\n",
                            "      <td>0</td>\n",
                            "      <td>0</td>\n",
                            "      <td>0</td>\n",
                            "      <td>0</td>\n",
                            "      <td>0</td>\n",
                            "    </tr>\n",
                            "    <tr>\n",
                            "      <th>3</th>\n",
                            "      <td>50</td>\n",
                            "      <td>0</td>\n",
                            "      <td>0</td>\n",
                            "      <td>0</td>\n",
                            "      <td>0</td>\n",
                            "      <td>0</td>\n",
                            "      <td>0</td>\n",
                            "      <td>0</td>\n",
                            "      <td>0</td>\n",
                            "    </tr>\n",
                            "    <tr>\n",
                            "      <th>4</th>\n",
                            "      <td>59</td>\n",
                            "      <td>0</td>\n",
                            "      <td>0</td>\n",
                            "      <td>1</td>\n",
                            "      <td>0</td>\n",
                            "      <td>0</td>\n",
                            "      <td>0</td>\n",
                            "      <td>0</td>\n",
                            "      <td>0</td>\n",
                            "    </tr>\n",
                            "  </tbody>\n",
                            "</table>\n",
                            "</div>"
                        ],
                        "text/plain": [
                            "   age  sex  cough  fever  chills  sore_throat  headache  fatigue  Urgency\n",
                            "0   30    1      0      0       0            0         0        0        0\n",
                            "1   47    1      0      0       0            0         0        0        0\n",
                            "2   49    1      0      0       0            0         0        0        0\n",
                            "3   50    0      0      0       0            0         0        0        0\n",
                            "4   59    0      0      1       0            0         0        0        0"
                        ]
                    },
                    "execution_count": 10,
                    "metadata": {},
                    "output_type": "execute_result"
                }
            ],
            "source": [
                "# Read the datafile \"covid_train.csv\"\n",
                "train = pd.read_csv('covid_train.csv')\n",
                "\n",
                "# Take a quick look at the dataframe\n",
                "train.head()\n"
            ]
        },
        {
            "cell_type": "code",
            "execution_count": 11,
            "metadata": {},
            "outputs": [
                {
                    "data": {
                        "text/html": [
                            "<div>\n",
                            "<style scoped>\n",
                            "    .dataframe tbody tr th:only-of-type {\n",
                            "        vertical-align: middle;\n",
                            "    }\n",
                            "\n",
                            "    .dataframe tbody tr th {\n",
                            "        vertical-align: top;\n",
                            "    }\n",
                            "\n",
                            "    .dataframe thead th {\n",
                            "        text-align: right;\n",
                            "    }\n",
                            "</style>\n",
                            "<table border=\"1\" class=\"dataframe\">\n",
                            "  <thead>\n",
                            "    <tr style=\"text-align: right;\">\n",
                            "      <th></th>\n",
                            "      <th>age</th>\n",
                            "      <th>sex</th>\n",
                            "      <th>cough</th>\n",
                            "      <th>fever</th>\n",
                            "      <th>chills</th>\n",
                            "      <th>sore_throat</th>\n",
                            "      <th>headache</th>\n",
                            "      <th>fatigue</th>\n",
                            "      <th>Urgency</th>\n",
                            "    </tr>\n",
                            "  </thead>\n",
                            "  <tbody>\n",
                            "    <tr>\n",
                            "      <th>0</th>\n",
                            "      <td>47</td>\n",
                            "      <td>0</td>\n",
                            "      <td>0</td>\n",
                            "      <td>0</td>\n",
                            "      <td>0</td>\n",
                            "      <td>0</td>\n",
                            "      <td>0</td>\n",
                            "      <td>0</td>\n",
                            "      <td>0</td>\n",
                            "    </tr>\n",
                            "    <tr>\n",
                            "      <th>1</th>\n",
                            "      <td>42</td>\n",
                            "      <td>0</td>\n",
                            "      <td>0</td>\n",
                            "      <td>1</td>\n",
                            "      <td>0</td>\n",
                            "      <td>0</td>\n",
                            "      <td>0</td>\n",
                            "      <td>0</td>\n",
                            "      <td>1</td>\n",
                            "    </tr>\n",
                            "    <tr>\n",
                            "      <th>2</th>\n",
                            "      <td>21</td>\n",
                            "      <td>1</td>\n",
                            "      <td>0</td>\n",
                            "      <td>0</td>\n",
                            "      <td>0</td>\n",
                            "      <td>0</td>\n",
                            "      <td>0</td>\n",
                            "      <td>0</td>\n",
                            "      <td>1</td>\n",
                            "    </tr>\n",
                            "    <tr>\n",
                            "      <th>3</th>\n",
                            "      <td>41</td>\n",
                            "      <td>1</td>\n",
                            "      <td>0</td>\n",
                            "      <td>0</td>\n",
                            "      <td>0</td>\n",
                            "      <td>0</td>\n",
                            "      <td>0</td>\n",
                            "      <td>0</td>\n",
                            "      <td>1</td>\n",
                            "    </tr>\n",
                            "    <tr>\n",
                            "      <th>4</th>\n",
                            "      <td>43</td>\n",
                            "      <td>1</td>\n",
                            "      <td>0</td>\n",
                            "      <td>1</td>\n",
                            "      <td>0</td>\n",
                            "      <td>0</td>\n",
                            "      <td>0</td>\n",
                            "      <td>0</td>\n",
                            "      <td>0</td>\n",
                            "    </tr>\n",
                            "  </tbody>\n",
                            "</table>\n",
                            "</div>"
                        ],
                        "text/plain": [
                            "   age  sex  cough  fever  chills  sore_throat  headache  fatigue  Urgency\n",
                            "0   47    0      0      0       0            0         0        0        0\n",
                            "1   42    0      0      1       0            0         0        0        1\n",
                            "2   21    1      0      0       0            0         0        0        1\n",
                            "3   41    1      0      0       0            0         0        0        1\n",
                            "4   43    1      0      1       0            0         0        0        0"
                        ]
                    },
                    "execution_count": 11,
                    "metadata": {},
                    "output_type": "execute_result"
                }
            ],
            "source": [
                "# Read the datafile \"covid_test.csv\"\n",
                "test = pd.read_csv('covid_test.csv')\n",
                "# Take a quick look at the dataframe\n",
                "test.head()\n"
            ]
        },
        {
            "cell_type": "code",
            "execution_count": 12,
            "metadata": {},
            "outputs": [],
            "source": [
                "# Get the train predictors\n",
                "X_train = train.drop('Urgency', axis=1).values\n",
                "\n",
                "# Get the train response variable\n",
                "y_train = train['Urgency'].values\n"
            ]
        },
        {
            "cell_type": "code",
            "execution_count": 13,
            "metadata": {},
            "outputs": [],
            "source": [
                "# Get the test predictors\n",
                "X_test = test.drop('Urgency', axis=1)\n",
                "# Get the test response variable\n",
                "y_test = test['Urgency']\n"
            ]
        },
        {
            "cell_type": "code",
            "execution_count": 14,
            "metadata": {},
            "outputs": [
                {
                    "data": {
                        "text/html": [
                            "<style>#sk-container-id-2 {color: black;}#sk-container-id-2 pre{padding: 0;}#sk-container-id-2 div.sk-toggleable {background-color: white;}#sk-container-id-2 label.sk-toggleable__label {cursor: pointer;display: block;width: 100%;margin-bottom: 0;padding: 0.3em;box-sizing: border-box;text-align: center;}#sk-container-id-2 label.sk-toggleable__label-arrow:before {content: \"▸\";float: left;margin-right: 0.25em;color: #696969;}#sk-container-id-2 label.sk-toggleable__label-arrow:hover:before {color: black;}#sk-container-id-2 div.sk-estimator:hover label.sk-toggleable__label-arrow:before {color: black;}#sk-container-id-2 div.sk-toggleable__content {max-height: 0;max-width: 0;overflow: hidden;text-align: left;background-color: #f0f8ff;}#sk-container-id-2 div.sk-toggleable__content pre {margin: 0.2em;color: black;border-radius: 0.25em;background-color: #f0f8ff;}#sk-container-id-2 input.sk-toggleable__control:checked~div.sk-toggleable__content {max-height: 200px;max-width: 100%;overflow: auto;}#sk-container-id-2 input.sk-toggleable__control:checked~label.sk-toggleable__label-arrow:before {content: \"▾\";}#sk-container-id-2 div.sk-estimator input.sk-toggleable__control:checked~label.sk-toggleable__label {background-color: #d4ebff;}#sk-container-id-2 div.sk-label input.sk-toggleable__control:checked~label.sk-toggleable__label {background-color: #d4ebff;}#sk-container-id-2 input.sk-hidden--visually {border: 0;clip: rect(1px 1px 1px 1px);clip: rect(1px, 1px, 1px, 1px);height: 1px;margin: -1px;overflow: hidden;padding: 0;position: absolute;width: 1px;}#sk-container-id-2 div.sk-estimator {font-family: monospace;background-color: #f0f8ff;border: 1px dotted black;border-radius: 0.25em;box-sizing: border-box;margin-bottom: 0.5em;}#sk-container-id-2 div.sk-estimator:hover {background-color: #d4ebff;}#sk-container-id-2 div.sk-parallel-item::after {content: \"\";width: 100%;border-bottom: 1px solid gray;flex-grow: 1;}#sk-container-id-2 div.sk-label:hover label.sk-toggleable__label {background-color: #d4ebff;}#sk-container-id-2 div.sk-serial::before {content: \"\";position: absolute;border-left: 1px solid gray;box-sizing: border-box;top: 0;bottom: 0;left: 50%;z-index: 0;}#sk-container-id-2 div.sk-serial {display: flex;flex-direction: column;align-items: center;background-color: white;padding-right: 0.2em;padding-left: 0.2em;position: relative;}#sk-container-id-2 div.sk-item {position: relative;z-index: 1;}#sk-container-id-2 div.sk-parallel {display: flex;align-items: stretch;justify-content: center;background-color: white;position: relative;}#sk-container-id-2 div.sk-item::before, #sk-container-id-2 div.sk-parallel-item::before {content: \"\";position: absolute;border-left: 1px solid gray;box-sizing: border-box;top: 0;bottom: 0;left: 50%;z-index: -1;}#sk-container-id-2 div.sk-parallel-item {display: flex;flex-direction: column;z-index: 1;position: relative;background-color: white;}#sk-container-id-2 div.sk-parallel-item:first-child::after {align-self: flex-end;width: 50%;}#sk-container-id-2 div.sk-parallel-item:last-child::after {align-self: flex-start;width: 50%;}#sk-container-id-2 div.sk-parallel-item:only-child::after {width: 0;}#sk-container-id-2 div.sk-dashed-wrapped {border: 1px dashed gray;margin: 0 0.4em 0.5em 0.4em;box-sizing: border-box;padding-bottom: 0.4em;background-color: white;}#sk-container-id-2 div.sk-label label {font-family: monospace;font-weight: bold;display: inline-block;line-height: 1.2em;}#sk-container-id-2 div.sk-label-container {text-align: center;}#sk-container-id-2 div.sk-container {/* jupyter's `normalize.less` sets `[hidden] { display: none; }` but bootstrap.min.css set `[hidden] { display: none !important; }` so we also need the `!important` here to be able to override the default hidden behavior on the sphinx rendered scikit-learn.org. See: https://github.com/scikit-learn/scikit-learn/issues/21755 */display: inline-block !important;position: relative;}#sk-container-id-2 div.sk-text-repr-fallback {display: none;}</style><div id=\"sk-container-id-2\" class=\"sk-top-container\"><div class=\"sk-text-repr-fallback\"><pre>LogisticRegression(C=0.1, max_iter=10000)</pre><b>In a Jupyter environment, please rerun this cell to show the HTML representation or trust the notebook. <br />On GitHub, the HTML representation is unable to render, please try loading this page with nbviewer.org.</b></div><div class=\"sk-container\" hidden><div class=\"sk-item\"><div class=\"sk-estimator sk-toggleable\"><input class=\"sk-toggleable__control sk-hidden--visually\" id=\"sk-estimator-id-2\" type=\"checkbox\" checked><label for=\"sk-estimator-id-2\" class=\"sk-toggleable__label sk-toggleable__label-arrow\">LogisticRegression</label><div class=\"sk-toggleable__content\"><pre>LogisticRegression(C=0.1, max_iter=10000)</pre></div></div></div></div></div>"
                        ],
                        "text/plain": [
                            "LogisticRegression(C=0.1, max_iter=10000)"
                        ]
                    },
                    "execution_count": 14,
                    "metadata": {},
                    "output_type": "execute_result"
                }
            ],
            "source": [
                "### edTest(test_model) ###\n",
                "\n",
                "# Define a kNN classification model with k = 7\n",
                "knn_model = KNeighborsClassifier(n_neighbors=7)\n",
                "\n",
                "# Fit the above model on the train data\n",
                "knn_model.fit(X_train, y_train)\n",
                "\n",
                "# Define a Logistic Regression model with max_iter as 10000 and C as 0.1 (leave all other parameters at default values)\n",
                "log_model = LogisticRegression(C=0.1, max_iter=10000)\n",
                "\n",
                "# Fit the Logistic Regression model on the train data\n",
                "log_model.fit(X_train, y_train)\n",
                "\n"
            ]
        },
        {
            "attachments": {},
            "cell_type": "markdown",
            "metadata": {},
            "source": [
                "Now it is time to evaluate the models.\n",
                "\n",
                "Create a dictionary called `metric_scores` which has keys `'Accuracy'`, `'Recall'`, `'Specificity'`, `'Precision'`, and `'F1-score'`. The value associated with each key should a list with a length 2, the first element being knn_model corresponding metric score and the second element being log_model corresponding metric score. All scores should be made on the **test** data.\n",
                "\n",
                "Ex: metric_scores[\"F1-score\"] = [knn_f1,log_f1]"
            ]
        },
        {
            "cell_type": "code",
            "execution_count": 15,
            "metadata": {},
            "outputs": [
                {
                    "name": "stderr",
                    "output_type": "stream",
                    "text": [
                        "/home/codespace/.local/lib/python3.10/site-packages/sklearn/base.py:458: UserWarning: X has feature names, but KNeighborsClassifier was fitted without feature names\n",
                        "  warnings.warn(\n",
                        "/home/codespace/.local/lib/python3.10/site-packages/sklearn/base.py:458: UserWarning: X has feature names, but LogisticRegression was fitted without feature names\n",
                        "  warnings.warn(\n"
                    ]
                }
            ],
            "source": [
                "\n",
                "# Your code here\n",
                "knn_pred = knn_model.predict(X_test)\n",
                "log_pred = log_model.predict(X_test)\n",
                "\n",
                "# Accuracy\n",
                "knn_accuracy = accuracy_score(y_test, knn_pred)\n",
                "log_accuracy = accuracy_score(y_test, log_pred)\n",
                "\n",
                "# Recall\n",
                "knn_recall = recall_score(y_test, knn_pred)\n",
                "log_recall = recall_score(y_test, log_pred)\n",
                "\n",
                "# Specificity\n",
                "knn_tn, knn_fp, knn_fn, knn_tp = confusion_matrix(y_test, knn_pred).ravel()\n",
                "log_tn, log_fp, log_fn, log_tp = confusion_matrix(y_test, log_pred).ravel()\n",
                "knn_specificity = knn_tn / (knn_tn + knn_fp)\n",
                "log_specificity = log_tn / (log_tn + log_fp)\n",
                "\n",
                "# Precision \n",
                "knn_precision = precision_score(y_test, knn_pred)\n",
                "log_precision = precision_score(y_test, log_pred)\n",
                "\n",
                "# F1 score \n",
                "knn_f1 = f1_score(y_test, knn_pred)\n",
                "log_f1 = f1_score(y_test, log_pred)\n",
                "\n",
                "metric_scores = {\n",
                "    'Accuracy': [knn_accuracy, log_accuracy],\n",
                "    'Recall': [knn_recall, log_recall],\n",
                "    'Specificity': [knn_specificity, log_specificity],\n",
                "    'Precision': [knn_precision, log_precision],\n",
                "    'F1-score': [knn_f1, log_f1]\n",
                "\n",
                "}"
            ]
        },
        {
            "cell_type": "code",
            "execution_count": 16,
            "metadata": {},
            "outputs": [
                {
                    "name": "stdout",
                    "output_type": "stream",
                    "text": [
                        "{'Accuracy': [0.6334661354581673, 0.6175298804780877], 'Recall': [0.6716417910447762, 0.7238805970149254], 'Specificity': [0.5897435897435898, 0.49572649572649574], 'Precision': [0.6521739130434783, 0.6217948717948718], 'F1-score': [0.6617647058823529, 0.6689655172413793]}\n"
                    ]
                }
            ],
            "source": [
                "### edTest(test_metrics) ###\n",
                "\n",
                "# Display your results\n",
                "\n",
                "print(metric_scores)"
            ]
        }
    ],
    "metadata": {
        "kernelspec": {
            "display_name": "Python 3 (ipykernel)",
            "language": "python",
            "name": "python3"
        },
        "language_info": {
            "codemirror_mode": {
                "name": "ipython",
                "version": 3
            },
            "file_extension": ".py",
            "mimetype": "text/x-python",
            "name": "python",
            "nbconvert_exporter": "python",
            "pygments_lexer": "ipython3",
            "version": "3.10.8"
        }
    },
    "nbformat": 4,
    "nbformat_minor": 4
}
